{
 "cells": [
  {
   "cell_type": "code",
   "execution_count": 1,
   "metadata": {
    "ExecuteTime": {
     "end_time": "2020-05-26T01:20:19.350318Z",
     "start_time": "2020-05-26T01:20:19.055231Z"
    },
    "slideshow": {
     "slide_type": "notes"
    }
   },
   "outputs": [
    {
     "name": "stdout",
     "output_type": "stream",
     "text": [
      "config:\r\n",
      "    /home/lbarosi/.jupyter\r\n",
      "    /home/lbarosi/miniconda3/envs/cursos/etc/jupyter\r\n",
      "    /usr/local/etc/jupyter\r\n",
      "    /etc/jupyter\r\n",
      "data:\r\n",
      "    /home/lbarosi/.local/share/jupyter\r\n",
      "    /home/lbarosi/miniconda3/envs/cursos/share/jupyter\r\n",
      "    /usr/local/share/jupyter\r\n",
      "    /usr/share/jupyter\r\n",
      "runtime:\r\n",
      "    /home/lbarosi/.local/share/jupyter/runtime\r\n"
     ]
    }
   ],
   "source": [
    "# Set CHROME ZOOM to 80% in res 1920 x 1080\n",
    "!jupyter --paths"
   ]
  },
  {
   "cell_type": "code",
   "execution_count": 2,
   "metadata": {
    "ExecuteTime": {
     "end_time": "2020-05-26T01:20:19.356068Z",
     "start_time": "2020-05-26T01:20:19.352530Z"
    },
    "slideshow": {
     "slide_type": "notes"
    }
   },
   "outputs": [],
   "source": [
    "# show result from all calculations of the cell\n",
    "from IPython.core.interactiveshell import InteractiveShell\n",
    "InteractiveShell.ast_node_interactivity = \"all\""
   ]
  },
  {
   "cell_type": "code",
   "execution_count": 3,
   "metadata": {
    "ExecuteTime": {
     "end_time": "2020-05-26T01:20:19.557611Z",
     "start_time": "2020-05-26T01:20:19.359109Z"
    },
    "slideshow": {
     "slide_type": "notes"
    }
   },
   "outputs": [],
   "source": [
    "from traitlets.config.manager import BaseJSONConfigManager\n",
    "from pathlib import Path\n",
    "path = Path.home() / \".jupyter\" / \"nbconfig\"\n",
    "cm = BaseJSONConfigManager(config_dir=str(path))\n",
    "cm.update(\"rise\", {\n",
    "                \"autolaunch\": true,\n",
    "                \"start_slideshow_at\": \"beginning\"\n",
    "                \"height\":\"10%\",\n",
    "                \"scroll\": True,\n",
    "                \"backimage\": \"../Assets/bingo-bao.png\",\n",
    "                \"header\": \"\"\" <style type=\"text/css\">\n",
    "                                .principal1{ \n",
    "                                    width: 100%; \n",
    "                                    text-align:Left;\n",
    "                                    display: table; }\n",
    "                                .coluna-1F{ \n",
    "                                     width: 50%;\n",
    "                                     display: table-cell;\n",
    "                                     vertical-align:middle;\n",
    "                                     height: auto;\n",
    "                                     margin-right:20px;}\n",
    "                                .coluna-2F{ \n",
    "                                     width: 40%;\n",
    "                                     display: table-cell;  \n",
    "                                     vertical-align:middle;\n",
    "                                     text-align:Right;\n",
    "                                     height:auto;}\n",
    "                                .coluna-3F{ \n",
    "                                     width: 5%;\n",
    "                                     display: table-cell;\n",
    "                                     vertical-align:middle;\n",
    "                                     height: auto;\n",
    "                                     margin-right:80px;}\n",
    "                                </style>\n",
    "                                <div class=\"principal1\">\n",
    "                                    <div class=\"coluna-1F\">\n",
    "                                        <hr>\n",
    "                                    </div>\n",
    "                                    <div class=\"coluna-2F\">\n",
    "                                        <h2> 26/Junho/2020 </h2> \n",
    "                                    </div>\n",
    "                                    <div class=\"coluna-3F\">\n",
    "                                        <img src=\"../Assets/BINGO_LOGO.png\" alt=\"BINGO_LOGO\" >\n",
    "                                    </div>\n",
    "                                </div>\"\"\",\n",
    "                \"footer\": \"\"\"<style type=\"text/css\">\n",
    "                                .principal1{ \n",
    "                                    width: 100%; \n",
    "                                    text-align:Left;\n",
    "                                    display: table; }\n",
    "                                .coluna-1F{ \n",
    "                                     width: 50%;\n",
    "                                     display: table-cell;\n",
    "                                     vertical-align:middle;\n",
    "                                     height: auto;\n",
    "                                     margin-right:20px;}\n",
    "                                .coluna-2F{ \n",
    "                                     width: 40%;\n",
    "                                     display: table-cell;  \n",
    "                                     vertical-align:middle;\n",
    "                                     text-align:Right;\n",
    "                                     height:auto;}\n",
    "                                .coluna-3F{ \n",
    "                                     width: 5%;\n",
    "                                     display: table-cell;\n",
    "                                     vertical-align:middle;\n",
    "                                     height: auto;\n",
    "                                     margin-left:20px;}\n",
    "                                </style>\n",
    "                                <div class=\"principal1\">\n",
    "                                    <div class=\"coluna-1F\">\n",
    "                                        <hr>\n",
    "                                    </div>\n",
    "                                    <div class=\"coluna-2F\">\n",
    "                                        <h2> UNIVERSIDADE FEDERAL DE CAMPINA GRANDE </h2> \n",
    "                                    </div>\n",
    "                                    <div class=\"coluna-3F\">\n",
    "                                        <img src=\"../Assets/Logo-UFCG.png\" alt=\"UFCG_LOGO\" >\n",
    "                                    </div>\n",
    "                                </div> \"\"\"\n",
    "});"
   ]
  },
  {
   "cell_type": "markdown",
   "metadata": {
    "rise": {
     "theme": "Night"
    },
    "slideshow": {
     "slide_type": "slide"
    }
   },
   "source": [
    "# BINGO Radiotelescope\n",
    "#### Luciano Barosi"
   ]
  },
  {
   "cell_type": "markdown",
   "metadata": {
    "slideshow": {
     "slide_type": "slide"
    }
   },
   "source": [
    "<br/><br/>\n",
    "**BAO** from **I**ntegrated **N**eutral **G**as **O**bservations\n"
   ]
  },
  {
   "cell_type": "markdown",
   "metadata": {
    "cell_style": "split",
    "slideshow": {
     "slide_type": "fragment"
    }
   },
   "source": [
    "| <!-- -->    | <!-- -->    |\n",
    "|-------------|-------------|\n",
    "| **B**aryonic **A**coustic **O**scillations | Well know standard ruler for cosmology\n",
    "|**Intensity Mapping** | experiments are CMB like experiments with well known steps for foreground reduction and data analysys and the equipment is considerably cheaper and simpler.|\n",
    "|**Neutral Gas Observations**| are a new window for cosmological studies, complementary to optics and with different systematics. Also, it should be able to probe, in principle, far deeper regions of the Universe."
   ]
  },
  {
   "cell_type": "markdown",
   "metadata": {
    "cell_style": "split",
    "slideshow": {
     "slide_type": "fragment"
    }
   },
   "source": [
    "BINGO Radiotelescope is a novel equipment designed with a cross dragone-optics in a a very large optical plane which will scan the sky with a large collecting area and large covered areas on the sky. The beams has shown to be an excellent precise shape, and the experiment will make its first run for 1 year of observing time, observing a redshift range from $0.13 < z < 0.48 $. The current institutions actively participating are shown below."
   ]
  },
  {
   "cell_type": "markdown",
   "metadata": {
    "slideshow": {
     "slide_type": "fragment"
    }
   },
   "source": [
    "<img border=\"0\" \n",
    "     align = \"Center\"\n",
    "     src=\"../Assets/BARRA_IES.png\" \n",
    "     alt=\"Affiliated_Institutions\"\n",
    "     width=\"100%\"\n",
    "     height=\"100\"\n",
    "     style=\"margin:0px 0px\">"
   ]
  },
  {
   "cell_type": "markdown",
   "metadata": {
    "slideshow": {
     "slide_type": "slide"
    }
   },
   "source": [
    "# How will it look like? \n",
    "### A realistic 3D view is in progress."
   ]
  },
  {
   "cell_type": "markdown",
   "metadata": {
    "slideshow": {
     "slide_type": "fragment"
    }
   },
   "source": [
    "<div style=\"display:flex;width:70%\">\n",
    "     <div style=\"flex:1;padding-right:5px;width:80%\">\n",
    "          <img alt=\"Focal Array\" src=\"../Assets/Arranjo.png\">\n",
    "         <p style=\"align:middle\"> Focal Arrange developep by Bruno Maffei and Ivan Ferreira. (credits Andreia Pereira Sousa)</p>\n",
    "     </div>\n",
    "     <div style=\"flex:1;padding-left:5px;width:80%\">\n",
    "          <img alt=\"Topography\" src=\"../Assets/TOPO.png\">\n",
    "         <p style=\"align:middle\"> Topography (credits. Andreia Pereira Sousa).</p>\n",
    "     </div>\n",
    "</div>"
   ]
  },
  {
   "cell_type": "markdown",
   "metadata": {
    "slideshow": {
     "slide_type": "slide"
    }
   },
   "source": [
    "# What about real images?"
   ]
  },
  {
   "cell_type": "markdown",
   "metadata": {
    "slideshow": {
     "slide_type": "fragment"
    }
   },
   "source": [
    "<div style=\"display:flex;width:80%\">\n",
    "     <div style=\"flex:1;padding-right:5px;width:80%;height:80%\">\n",
    "          <img alt=Site-View\" src=\"../Assets/Trilha.png\">\n",
    "         <p style=\"align:middle\"> View from the hills nearby the site. (credits: Graciele de Oliveira)</p>\n",
    "     </div>\n",
    "     <div style=\"flex:1;padding-left:5px;width:80%;height:80%\">\n",
    "          <img alt=\"Topography\" src=\"../Assets/SITE.png\">\n",
    "         <p style=\"align:middle\"> A lot of work to do. (credits: Graciele de Oliveira).</p>\n",
    "     </div>\n",
    "</div>"
   ]
  },
  {
   "cell_type": "markdown",
   "metadata": {
    "slideshow": {
     "slide_type": "slide"
    }
   },
   "source": [
    "# Just a few more pictures"
   ]
  },
  {
   "cell_type": "markdown",
   "metadata": {
    "ExecuteTime": {
     "end_time": "2020-05-17T12:49:24.722648Z",
     "start_time": "2020-05-17T12:49:24.716902Z"
    },
    "cell_style": "split",
    "slideshow": {
     "slide_type": "fragment"
    }
   },
   "source": [
    "<figure>\n",
    "  <img src=\"../Assets/RSZ.png\" alt=\"RSZ\" style=\"width:100%\">\n",
    "  <figcaption> Radio Silence Zone Proposed.(credits: Luciano Barosi)</figcaption>\n",
    "</figure>\n",
    "\n"
   ]
  },
  {
   "cell_type": "markdown",
   "metadata": {
    "ExecuteTime": {
     "end_time": "2020-05-17T12:55:15.883975Z",
     "start_time": "2020-05-17T12:55:15.875156Z"
    },
    "cell_style": "split",
    "slideshow": {
     "slide_type": "fragment"
    }
   },
   "source": [
    "<figure>\n",
    "  <img src=\"../Assets/HORN.png\" alt=\"RSZ\" style=\"width:50%\">\n",
    "  <figcaption> BINGO Horn (credits Ana Clara Vidal de Negreiros).</figcaption>\n",
    "</figure>\n",
    "\n",
    "<figure>\n",
    "  <img src=\"../Assets/RFI.png\" alt=\"RSZ\" style=\"width:50%\">\n",
    "  <figcaption> RFI signature at the SITE Proposed.(credits: Luciano Barosi)</figcaption>\n",
    "</figure>\n",
    "\n"
   ]
  },
  {
   "cell_type": "markdown",
   "metadata": {
    "slideshow": {
     "slide_type": "slide"
    }
   },
   "source": [
    "# Observational Cosmology"
   ]
  },
  {
   "cell_type": "markdown",
   "metadata": {},
   "source": [
    "<center>\n",
    "    <figure>\n",
    "       <img src=\"../Assets/Captura de tela_2020-05-25_22-07-53.png\" alt=\"BAO-animated\" style=\"width:40%\">\n",
    "          <figcaption> Viewing the visible universe. (credits: Ansari-1810.09572)</figcaption>\n",
    "    </figure>\n",
    "</center>"
   ]
  },
  {
   "cell_type": "markdown",
   "metadata": {
    "slideshow": {
     "slide_type": "slide"
    }
   },
   "source": [
    "# Observational Cosmology"
   ]
  },
  {
   "cell_type": "markdown",
   "metadata": {
    "slideshow": {
     "slide_type": "fragment"
    }
   },
   "source": [
    "| <!--- just ---> |<!--- just --->|<!--- just --->|<!--- just --->|\n",
    "|-----------------|---------------|---------------|---------------|\n",
    "| <img src=\"../Assets/lajedo.png\" alt=\"Sky\" style=\"width:90%\"> |<img src=\"../Assets/TOD.png\" alt=\"TOD\" style=\"width:90%\"> |<img src=\"../Assets/planck.png\" alt=\"MAP\" style=\"width:90%\"> | <img src=\"../Assets/HUBBLE.png\" alt=\"BAO\" style=\"width:90%\"> |\n",
    "| PB Sky (credit: Amateur Astronomer) | Time Ordered Data (credit: LIGO) | Multifrequency Maps (credit: PLANCK2013 results) | Cosmological Parameters (credits: C.A.Wuensche)"
   ]
  },
  {
   "cell_type": "markdown",
   "metadata": {
    "slideshow": {
     "slide_type": "slide"
    }
   },
   "source": [
    " <center> <img src=\"../Assets/Pipeline.png\" alt=\"Sky\" style=\"width:65%;align:center;vertical-align:middle\"></center>"
   ]
  },
  {
   "cell_type": "markdown",
   "metadata": {
    "ExecuteTime": {
     "end_time": "2020-05-23T17:30:24.934671Z",
     "start_time": "2020-05-23T17:30:24.931575Z"
    },
    "slideshow": {
     "slide_type": "slide"
    }
   },
   "source": [
    "# What is BINGO science case?"
   ]
  },
  {
   "cell_type": "markdown",
   "metadata": {
    "slideshow": {
     "slide_type": "fragment"
    }
   },
   "source": [
    "### Cosmology\n",
    "- Single Dish radiotelescope with uncooled electronics are relatively cheap $T_{Sys}\\approx 70K$\n",
    "- Large focal plane ($\\textrm{Instantaneous FOV} \\approx 27 \\;\\mathrm{deg}^2$, $\\Omega_{sur} =  5000 \\;\\mathrm{deg}^2$).\n",
    "- (See latter concidence among current and future experiments)\n",
    "- Angular resolution is of order of 40 arcmin.\n",
    "- Far from reionization HI physics is simpler and HI will strongly correlate with DM\n",
    "- Signal is $100 \\mu K$, foreground is $100 mK$, difficult but feasible.\n",
    "- There is a proof of concept (Green Bank).\n",
    "- Tomographic Analysis allows precise measurements for redshift space distortion signal.\n",
    "- BAO meas are very important to single out DE models, as standard yardsticks.\n",
    "- RSD is a good probe for $\\sigma_8$ and the growth of structures.\n",
    "- low-z ($z<3)$ measurements of **BAO** do not suffer from a possible degeneracy between departure from flatness and DE equation of state."
   ]
  },
  {
   "cell_type": "markdown",
   "metadata": {
    "slideshow": {
     "slide_type": "slide"
    }
   },
   "source": [
    "# What is BINGO science case?"
   ]
  },
  {
   "cell_type": "markdown",
   "metadata": {
    "slideshow": {
     "slide_type": "fragment"
    }
   },
   "source": [
    "## Astrophysics\n",
    "\n",
    "- Yet another transient detector.\n",
    "    - FRB: **Lorimer** signal. Burts range from tens of **mJ** to hundreds of **J**. There are a few hundreds FRB detected since 2007 and very little information of the unlerlying physical process. There are no radiotelescopes operating in BINGO band with FRB active projects. \n",
    "    - Pulsars\n",
    "    - Star Flares\n",
    "    - Rotating Radio Transients\n",
    "- Galactic Science:\n",
    "    - Cosmic Radio Background\n",
    "    - Galactic Microwave Emission"
   ]
  },
  {
   "cell_type": "markdown",
   "metadata": {
    "slideshow": {
     "slide_type": "slide"
    }
   },
   "source": [
    "# Standard Candles"
   ]
  },
  {
   "cell_type": "markdown",
   "metadata": {
    "slideshow": {
     "slide_type": "fragment"
    }
   },
   "source": [
    "$$H^2(z) = \\frac{8 \\pi G}{3} \\left[\\rho_M (1+z)^3 + \\rho_R(1-z)^4 + \\rho_\\mathrm{DE} \\right] $$"
   ]
  },
  {
   "cell_type": "markdown",
   "metadata": {
    "slideshow": {
     "slide_type": "fragment"
    }
   },
   "source": [
    "<center>\n",
    "    <figure>\n",
    "       <img src=\"../Assets/SALT2_full_Hubble-eps-converted-to.png\" alt=\"SN\" style=\"width:30%\">\n",
    "    </figure>\n",
    "</center>\n"
   ]
  },
  {
   "cell_type": "markdown",
   "metadata": {
    "slideshow": {
     "slide_type": "slide"
    }
   },
   "source": [
    "# Cosmological Status"
   ]
  },
  {
   "cell_type": "markdown",
   "metadata": {
    "slideshow": {
     "slide_type": "fragment"
    }
   },
   "source": [
    "- We do not know what $\\Omega_\\Lambda$ is. (The cosmological constant problem)\n",
    "    - Universe Components? Dark Energy Models?\n",
    "    - Modified Gravities?\n",
    "- We have a few observational probes now to do precision cosmology but not high precision cosmology.\n",
    "    - Is the universe really flat?\n",
    "    - Reionization era and detais of the mechanism\n",
    "    - Structure Formation\n",
    "- We have some (statistical) standards:\n",
    "    - Standard Candles (Supernovae IA)\n",
    "    - Standard Rulers (BAO)\n",
    "    - Standard Sirens (GW)\n",
    "- Why now?\n",
    "    - The cosmological coincidence problem"
   ]
  },
  {
   "cell_type": "markdown",
   "metadata": {
    "slideshow": {
     "slide_type": "slide"
    }
   },
   "source": [
    "# Homogeneous Model"
   ]
  },
  {
   "cell_type": "markdown",
   "metadata": {
    "slideshow": {
     "slide_type": "fragment"
    }
   },
   "source": [
    "$$\\frac{H^2(z)}{H_0^2} = \\Omega_R (1+z)^4 + \\Omega_M (1+z)^3 + \\Omega_k (1+z)^2 + \\\\ \\Omega_{DE} \\;\\mathrm{exp} \\left[3 \\int_0^z d\\;\\mathrm{ln(1+z)[1+\\omega]}\\right](1+z)^4$$\n",
    "$$ \\omega(z) = \\omega_0 + \\omega_a \\frac{z}{1+z} \\;\\;\\;\\;\\;\\;\\; \\text{(Linder)} $$\n",
    "$$ D(z) = c \\int_0^z dz' \\frac{1}{H(z')}$$\n",
    "$$ D_A(z) = \\frac{c}{1+z} \\int_0^z dz' \\frac{1}{H(z')}$$"
   ]
  },
  {
   "cell_type": "markdown",
   "metadata": {
    "slideshow": {
     "slide_type": "slide"
    }
   },
   "source": [
    "# Anysotropies"
   ]
  },
  {
   "cell_type": "markdown",
   "metadata": {
    "slideshow": {
     "slide_type": "fragment"
    }
   },
   "source": [
    "$$g_{\\mu\\nu} = g_{\\mu\\nu}^{(0)} + \\delta g_{\\mu\\nu} $$\n",
    "$$\\delta g_{\\mu\\nu}a^2 \\begin{pmatrix} -2\\Psi & 0 \\\\ 0 & 2\\Phi \\delta_{ij} \\end{pmatrix} $$ \n",
    "$$\\rho = \\bar \\rho(1+\\delta) $$"
   ]
  },
  {
   "cell_type": "markdown",
   "metadata": {
    "slideshow": {
     "slide_type": "fragment"
    }
   },
   "source": [
    "Plug Einstein and Perturbed Relativistic Euler, consider the tight coupling limit, in which baryons and photons travel together (consider only the monopole).\n",
    "$$\\delta'' + \\mathcal{H}\\delta' + \\left(c_s^2 k^2 - \\frac{3}{2}\\mathcal{H}^2\\right)\\delta = 0 $$\n",
    "$$ \\Theta(t, \\vec x, \\hat p^i) \\equiv = \\frac{\\delta T}{T} $$ \n",
    "$$ \\Theta_0''+ \\frac{R}{1+R}\\mathcal{H} \\Theta_0' + k^2 c_s ^2 \\Theta_0 = -\\frac{k^2}{3}\\Psi - \\frac{R}{1+R}\\mathcal{H}\\Phi'- \\Phi''$$ \n",
    "$$c_s^2 = \\frac{3\\omega_b}{4\\omega_\\gamma} \\frac{1}{1+z} $$"
   ]
  },
  {
   "cell_type": "markdown",
   "metadata": {
    "slideshow": {
     "slide_type": "slide"
    }
   },
   "source": [
    "# From CMB"
   ]
  },
  {
   "cell_type": "markdown",
   "metadata": {
    "cell_style": "split",
    "slideshow": {
     "slide_type": "fragment"
    }
   },
   "source": [
    "<center>\n",
    "    <figure>\n",
    "       <img src=\"../Assets/Planck_CMB.jpg\" alt=\"PLANCKMAP\" style=\"width:80%\">\n",
    "          <figcaption> Planck 2018 map R.2.0.</figcaption>\n",
    "    </figure>\n",
    "</center>"
   ]
  },
  {
   "cell_type": "markdown",
   "metadata": {
    "cell_style": "split",
    "slideshow": {
     "slide_type": "fragment"
    }
   },
   "source": [
    "<center>\n",
    "    <figure>\n",
    "       <img src=\"../Assets/RvTRr.png\" alt=\"BAO-animated\" style=\"width:80%\">\n",
    "          <figcaption> Extracting Physics. (credits: Ansari-1810.09572)</figcaption>\n",
    "    </figure>\n",
    "</center>"
   ]
  },
  {
   "cell_type": "markdown",
   "metadata": {
    "slideshow": {
     "slide_type": "slide"
    }
   },
   "source": [
    "# It also happens with matter."
   ]
  },
  {
   "cell_type": "markdown",
   "metadata": {
    "cell_style": "split",
    "slideshow": {
     "slide_type": "fragment"
    }
   },
   "source": [
    "<center>\n",
    "    <figure>\n",
    "       <img src=\"../Assets/bao_1d_anim.gif\" alt=\"BAO-animated\" style=\"width:80%\">\n",
    "          <figcaption> Baryon Acoustic Oscillations.(credits: Eisenstein, D.)</figcaption>\n",
    "    </figure>\n",
    "</center>\n"
   ]
  },
  {
   "cell_type": "markdown",
   "metadata": {
    "cell_style": "split",
    "slideshow": {
     "slide_type": "fragment"
    }
   },
   "source": [
    "<center>\n",
    "    <figure>\n",
    "       <img src=\"../Assets/BOSS.png\" alt=\"BAOO-BOSS\" style=\"width:80%\">\n",
    "          <figcaption> BOSS measurements in different z.(credits: Padmanabhan)</figcaption>\n",
    "    </figure>\n",
    "</center>"
   ]
  },
  {
   "cell_type": "markdown",
   "metadata": {
    "ExecuteTime": {
     "end_time": "2020-05-24T14:02:56.221490Z",
     "start_time": "2020-05-24T14:02:56.218716Z"
    },
    "slideshow": {
     "slide_type": "slide"
    }
   },
   "source": [
    "# From Galaxy Surveys (BOSS)\n",
    "\n",
    "comoving volume entangles angular-diameter distance and expansion rate. Photometric surveys have large z error bars (Weinberg, D., 2013).\n",
    "$$ D_V(z) = \\left((1+z)^2 D_{A}^2(z) \\frac{c z}{H(z)} \\right)^{1/3} $$"
   ]
  },
  {
   "cell_type": "markdown",
   "metadata": {
    "cell_style": "split",
    "slideshow": {
     "slide_type": "fragment"
    }
   },
   "source": [
    "<center>\n",
    "    <figure>\n",
    "       <img src=\"../Assets/BAO-Anderson2014.png\" alt=\"BAO-anderson\" style=\"width:60%\">\n",
    "          <figcaption> BAO Hubble Diagram)</figcaption>\n",
    "    </figure>\n",
    "</center>"
   ]
  },
  {
   "cell_type": "markdown",
   "metadata": {
    "cell_style": "split",
    "slideshow": {
     "slide_type": "fragment"
    }
   },
   "source": [
    "<center>\n",
    "    <figure>\n",
    "       <img src=\"../Assets/Errors-Weinberg2013.png\" alt=\"z-error\" style=\"width:60%\">\n",
    "          <figcaption> H and D errors in full sky survey</figcaption>\n",
    "    </figure>\n",
    "</center>\n"
   ]
  },
  {
   "cell_type": "markdown",
   "metadata": {
    "slideshow": {
     "slide_type": "slide"
    }
   },
   "source": [
    "# Signal"
   ]
  },
  {
   "cell_type": "markdown",
   "metadata": {
    "slideshow": {
     "slide_type": "fragment"
    }
   },
   "source": [
    "$$T_{sky}(\\nu,\\hat n) = T_{gal}(\\nu,\\hat n)+T_{eg}(\\nu,\\hat n)+T_{CMB}(\\nu,\\hat n)+ T_{atm}(\\nu,\\hat n) + T_{pol}(\\nu,\\hat n) + T_{cosmo}(\\nu,\\hat n)$$"
   ]
  },
  {
   "cell_type": "markdown",
   "metadata": {
    "slideshow": {
     "slide_type": "fragment"
    }
   },
   "source": [
    "- Brightness Temperature at frequency $\\nu$ and direction $\\hat n$\n",
    "- Diffuse Galactic Radiation\n",
    "    - Synchroton\n",
    "    - Bremsstrahlung\n",
    "    - Dust\n",
    "    - Anomalous Microwave Emission (AME - \"spinning dust\")\n",
    "- Extragalactic sources\n",
    "    - Extragalactic Point Sources\n",
    "    \n",
    "- CMB temperature\n",
    "- Atmospheric Emission\n",
    "- Polarization leakage\n",
    "- **HI** signal\n",
    "- And we should also add noise from the receptor and RFI\n",
    "\n",
    "Go up"
   ]
  },
  {
   "cell_type": "markdown",
   "metadata": {
    "slideshow": {
     "slide_type": "slide"
    }
   },
   "source": [
    "# HI Signal at low z"
   ]
  },
  {
   "cell_type": "markdown",
   "metadata": {
    "slideshow": {
     "slide_type": "fragment"
    }
   },
   "source": [
    "We shall assume\n",
    "- Consider 21cm radio sources in the line of sight.\n",
    "- Isotropic Universe\n",
    "- FRW universe in the absence of perturbations.\n",
    "- Rayleigh-jeans limit\n",
    "- low redshifts.\n",
    "- $T_{CMB} \\ll T_s $\n",
    "\n",
    "we can define the number density of neutral hydrogen atoms $n_{HI}=\\frac{\\rho_{HI}}{m_{HI}}$, where $n_{HI} = n_1 + n_0 $ and the spin temperature is given by :\n",
    "$$ \\frac{n_1}{n_0} = 3 e^{-\\frac{T_{10}}{T_s}}  $$"
   ]
  },
  {
   "cell_type": "markdown",
   "metadata": {
    "slideshow": {
     "slide_type": "slide"
    }
   },
   "source": [
    "# HI Signal at low z"
   ]
  },
  {
   "cell_type": "markdown",
   "metadata": {
    "slideshow": {
     "slide_type": "fragment"
    }
   },
   "source": [
    "$$T_{HI}(z) = \\frac{3}{32\\pi} \\frac{(h_p c)^3 n_{HI} A_{10}}{k_B E_{10}^2}(1+z) H(z) $$\n",
    "$$\\bar \\rho_{HI}(z) = \\Omega_{HI}(z) (1+z)^3 $$\n",
    "$$\\bar T_{HI}(z) = 44\\mu K\\left(\\frac{(1+z)^2}{E(z)} \\right) $$"
   ]
  },
  {
   "cell_type": "markdown",
   "metadata": {
    "slideshow": {
     "slide_type": "fragment"
    }
   },
   "source": [
    "what we want to measure are the fluctuation on HI temperature.\n",
    "$$ n_{HI}(z,\\hat n) = \\bar n_{HI} (1+\\delta_{HI}) $$\n",
    "$$ T_{HI}(z,\\hat n) = \\bar T_{HI} (1+\\Delta_{T_b})$$"
   ]
  },
  {
   "cell_type": "markdown",
   "metadata": {
    "slideshow": {
     "slide_type": "fragment"
    }
   },
   "source": [
    "$$\\Delta_{T_b}(z, \\hat n) = \\delta_{HI} - \\frac{1}{\\mathcal{H}} \\hat n \\cdot (\\hat n \\cdot \\nabla\\vec v) + \\left( \\frac{d \\mathrm{ln} (a^3 n_{HI})}{d \\eta} - \\frac{\\mathcal{\\dot H}}{\\mathcal{H}} -2\\mathcal{H}\\right) \\delta_\\eta + \\frac{1}{\\mathcal{H}} \\dot\\Phi + \\Psi$$ "
   ]
  },
  {
   "cell_type": "markdown",
   "metadata": {
    "slideshow": {
     "slide_type": "slide"
    }
   },
   "source": [
    "# Tomographic Approach"
   ]
  },
  {
   "cell_type": "markdown",
   "metadata": {
    "slideshow": {
     "slide_type": "fragment"
    }
   },
   "source": [
    "We want to construct a tomographic angular HI power spectrum. We should decompose in spherical modes:\n",
    "\n",
    "$$\\Delta_{T_b} = \\sum_{l,m}  \\Delta_{T_b,lm}(z) Y_{lm}(\\hat n)$$\n",
    "\n",
    "then we consider the plane wave expansion:\n",
    "$$e^{i \\hat k\\cdot \\hat r} = 4 \\pi \\sum_l \\sum _{m=-l}^{m=l} i^l j_l(kr) Y_lm(\\vec k) Y_{lm}^*(\\vec r) $$\n",
    "and obtain\n",
    "$$ \\Delta_{T_b,lm}(z) = 4\\pi i^l \\int \\frac{d^3k}{(2\\pi)^{3/2}} \\Delta_{T_b,l}(\\vec k,z) Y_{lm}^*(\\hat k)$$"
   ]
  },
  {
   "cell_type": "markdown",
   "metadata": {
    "slideshow": {
     "slide_type": "slide"
    }
   },
   "source": [
    "# Tomographic Approach"
   ]
  },
  {
   "cell_type": "markdown",
   "metadata": {
    "slideshow": {
     "slide_type": "fragment"
    }
   },
   "source": [
    "$$ \\Delta_{T_b,l}(\\vec k,z) = \\delta_n j_l(k\\chi) + \\frac{kv}{\\mathcal{H}} + j_l´´(k\\chi) + \n",
    "\\left( \\frac{1}{\\mathcal{H}}\\dot\\Phi + \\Psi\\right)j_l(k\\chi) \n",
    "- \\\\ \\left( \\frac{1}{\\mathcal{H}} \\frac{d \\mathrm{ln}(a^3 \\bar n_{HI})}{d\\eta} - \\frac{\\mathcal{\\dot H}}{\\mathcal{H}^2} - 2 \\right)\n",
    "\\left[\\Psi j_l(k\\chi) + v j'_l(k\\chi)  + \\int_0^\\chi (\\dot\\Phi + \\dot \\Psi)j_l(k\\chi') d\\chi'    \\right]$$"
   ]
  },
  {
   "cell_type": "markdown",
   "metadata": {
    "slideshow": {
     "slide_type": "fragment"
    }
   },
   "source": [
    "We now define the tomographic angular power spectrum:\n",
    "$$ \\Delta_{T_b,l}^W(\\vec k,z) = \\int_0^\\infty dz W(z) \\;\\Delta_{T_b,l}(\\vec k,z), \\;\\;\\;\\; \n",
    "\\Delta_{T_b,l}^W(k,z) = \\frac{\\Delta_{T_b,l}^W(\\vec k,z)}{\\mathcal{R}},$$\n",
    "$$ C_l(z_i,z_j) = 4\\pi \\int d\\mathrm{ln}k \\mathcal{P}_\\mathcal{R}(k) \\Delta_{T_b,l}^W(k,z) \\Delta_{T_b,l}^W(k,z)  $$\n",
    "Where $\\mathcal{P}_\\mathcal{R}(k)$ is the dimensioless power spectrum of the primordial curvature perturbations $\\mathcal{R}$."
   ]
  },
  {
   "cell_type": "markdown",
   "metadata": {
    "slideshow": {
     "slide_type": "slide"
    }
   },
   "source": [
    "Now you may start to run you preferred boltzmann code.\n",
    "<center>\n",
    "    <figure>\n",
    "       <img src=\"../Assets/plot_Cl_3Mhz_zi.png\" alt=\"HI-brightness\" style=\"width:50%\">\n",
    "          <figcaption> Brightness Temperature perturbation at z=0.13. Newtonian Gauge (red), RSD (green), velocity terms (blue), potentials (cyan), ISW(magenta)) (Costa, A. - BINGO)</figcaption>\n",
    "    </figure>\n",
    "</center>"
   ]
  },
  {
   "cell_type": "markdown",
   "metadata": {
    "slideshow": {
     "slide_type": "slide"
    }
   },
   "source": [
    "# Foreground Simulations "
   ]
  },
  {
   "cell_type": "markdown",
   "metadata": {
    "slideshow": {
     "slide_type": "fragment"
    }
   },
   "source": [
    "<center>\n",
    "    <figure>\n",
    "       <img src=\"../Assets/stripes.png\" alt=\"BINGO-stripes\" style=\"width:50%\">\n",
    "          <figcaption> Comparison between 21cm Flask Cube, Foreground Cube and GNILC Reconstructed Map, from top to bottom. (Abdalla, F. - BINGO)</figcaption>\n",
    "    </figure>\n",
    "</center>"
   ]
  },
  {
   "cell_type": "markdown",
   "metadata": {
    "slideshow": {
     "slide_type": "slide"
    }
   },
   "source": [
    "# Dark Energy Models"
   ]
  },
  {
   "cell_type": "markdown",
   "metadata": {
    "slideshow": {
     "slide_type": "fragment"
    }
   },
   "source": [
    "$$\\left\\{ \\Omega_b h^2, \\Omega_c h^2, \\tau, A_s, n_s, \\omega_0, \\omega_a \\right \\} $$"
   ]
  },
  {
   "cell_type": "markdown",
   "metadata": {
    "slideshow": {
     "slide_type": "fragment"
    }
   },
   "source": [
    "$$\\mathcal{L} = \\frac{1}{2} \\partial^\\mu \\phi \\partial_\\mu \\phi - V(\\phi) $$\n",
    "$$ \\omega = - \\frac{-1 + \\frac{\\dot\\phi}{2V}}{1+ \\frac{\\dot\\phi^2}{2V}}$$\n",
    "$$ \\omega(z) = \\omega_0 + \\omega_a \\frac{z}{1+z}$$"
   ]
  },
  {
   "cell_type": "markdown",
   "metadata": {
    "slideshow": {
     "slide_type": "fragment"
    }
   },
   "source": [
    "- Inevitable fine-tuning, but can help build better models. \n",
    "- (Thawing, Freezing, Tracking, k-essence). *Friedman-astro-ph/0803.0982*, *Copeland-hep-th/0803057* \n",
    "- Interacting both dark sectors have also been on study."
   ]
  },
  {
   "cell_type": "markdown",
   "metadata": {
    "slideshow": {
     "slide_type": "slide"
    }
   },
   "source": [
    "# BINGO Forecast"
   ]
  },
  {
   "cell_type": "markdown",
   "metadata": {
    "cell_style": "split",
    "slideshow": {
     "slide_type": "fragment"
    }
   },
   "source": [
    "<center>\n",
    "    <figure>\n",
    "       <img src=\"../Assets/BINGO_Planck_w0_wa_nz_10.png\" alt=\"BINGO-fischer\" style=\"width:80%\">\n",
    "          <figcaption> confidence level constraints on dark energy parameters using BINGO and BINGO + *Planck*. Fischer forecasting. (Costa, A - BINGO)</figcaption>\n",
    "    </figure>\n",
    "</center>"
   ]
  },
  {
   "cell_type": "markdown",
   "metadata": {
    "cell_style": "split",
    "slideshow": {
     "slide_type": "fragment"
    }
   },
   "source": [
    "<center>\n",
    "    <figure>\n",
    "       <img src=\"../Assets/BINGO_Planck_w0_wa_nz_40.png\" alt=\"BINGO-fischer\" style=\"width:80%\">\n",
    "          <figcaption> confidence level constraints on dark energy parameters using BINGO and BINGO + *Planck*. Fischer forecasting. (Costa, A - BINGO)</figcaption>\n",
    "    </figure>\n",
    "</center>"
   ]
  },
  {
   "cell_type": "markdown",
   "metadata": {
    "slideshow": {
     "slide_type": "slide"
    }
   },
   "source": [
    "# Modified Gravity"
   ]
  },
  {
   "cell_type": "markdown",
   "metadata": {
    "slideshow": {
     "slide_type": "fragment"
    }
   },
   "source": [
    "- In spite of Weinberg's theorem  they are still on the loose.\n",
    "- The most general scalar-tensor theory having second-order field equations in four dimensions. (**Horndesky**)\n",
    "$$\\mathcal{L}=G_2(\\phi,X) - G_3(\\phi,X)\\Box \\phi + G_4(\\phi,X)[(\\Box\\phi)^2 - \\phi^{\\mu\\nu} \\phi_{\\mu\\nu}] + \\\\\n",
    "G_6(\\phi,X) G^{\\mu\\nu} \\phi_{\\mu\\nu} - \\frac{G_{5X}(\\phi,X)}{6} [(\\Box\\phi)^3 - 3\\Box\\phi\\phi^{\\mu\\nu}\\phi_{\\mu\\nu} + 2\\phi_{\\mu\\nu} \\phi^{\\nu\\lambda}\\phi_{\\nu\\lambda} ]$$ (Brito F. BINGO)\n",
    "- GW170817 ruled out lots of models of modified gravity. There still Horndesky models viable and there can be also vainshteyn mechanisms to avoind the constraint even more.\n",
    "- They are tracxtable fairly easely in mathematica.\n",
    "- SVT decomposition\n",
    "- Specific boltzman code available (HI-CLASS).\n",
    "- We do not have any forecast now."
   ]
  },
  {
   "cell_type": "markdown",
   "metadata": {
    "slideshow": {
     "slide_type": "slide"
    }
   },
   "source": [
    "<center>\n",
    "    <figure>\n",
    "       <img src=\"../Assets/survey.png\" alt=\"SURVEYS\" style=\"width:70%\">\n",
    "          <figcaption> BINGO Coverage and other surveys.(credits: Liccardo, V.)</figcaption>\n",
    "    </figure>\n",
    "</center>"
   ]
  },
  {
   "cell_type": "markdown",
   "metadata": {
    "slideshow": {
     "slide_type": "slide"
    }
   },
   "source": [
    "# Current Status in 21cm Cosmology"
   ]
  },
  {
   "cell_type": "markdown",
   "metadata": {},
   "source": [
    "<center>\n",
    "    <figure>\n",
    "       <img src=\"../Assets/Captura de tela_2020-05-25_22-10-09.png\" alt=\"BAO-animated\" style=\"width:80%\">\n",
    "          <figcaption> Viewwing the visible universe. (credits: Ansari-1810.09572)</figcaption>\n",
    "    </figure>\n",
    "</center>"
   ]
  },
  {
   "cell_type": "markdown",
   "metadata": {
    "slideshow": {
     "slide_type": "slide"
    }
   },
   "source": [
    "# BINGO related publications\n",
    "- Abdalla, E., Brazilian Community Report on Dark Matter (1912.10076)\n",
    "- C. A. Wuensche et Al. Baryon acoustic oscillations from Integrated Neutral Gas Observations: Broadband corrugated horn construction and testing. arXiv arXiv:1911.13188, November 2019.\n",
    "- M. W. Peel, Baryon acoustic oscillations from Integrated Neutral Gas Observations: Radio frequency interference measurements and telescope site selection\n",
    "- Wuensche, “The BINGO telescope: a new instrument exploring the new 21-cm cosmology window”. Proceedings of the 4th Algerian Conference in Astronomy and Astrophysics (2018), arXiv:1803.01644\n",
    "- Harper et al., “Interference from global navigation satellites in future HI intensity mapping surveys”. 2016 Radio Frequency Interference (RFI), Socorro, NM, 2016, pp. 31-36. DOI 10.1109/RFINT.2016.7833527\n",
    "- Battye et al., “Update on the BINGO 21cm intensity mapping experiment”. Proceedings of Recontres de Moriond 2016, arXiv:1610.06826\n",
    "- M. A. Bigot-Sazy, C. Dickinson, R. A. Battye, I. W. A. Browne, Y. Z. Ma, B. Maffei, F. Noviello,\n",
    "- M. Remazeilles, and P. N. Wilkinson. Simulations for single-dish intensity mapping experiments. Mon.Not. R. Astron. Soc., 454(3):3240–3253, 2015"
   ]
  },
  {
   "cell_type": "markdown",
   "metadata": {
    "slideshow": {
     "slide_type": "slide"
    }
   },
   "source": [
    "<center><img width = \"20%\" src=\"../Assets/BINGO_LOGO.png\" alt=\"BINGO_LOGO\" ></center>\n",
    "<center><h1>Thank you</h1></center>\n",
    "<center><h4>radiotelescopiobingo@ufcg.edu.br </h4></center>\n",
    "<center><h4>lbarosi@df.ufcg.edu.br </h4></center>\n",
    "<img border=\"0\" \n",
    "     align = \"Center\"\n",
    "     src=\"../Assets/BARRA-FUND.png\" \n",
    "     alt=\"Funding Agencies\"\n",
    "     width=\"100%\"\n",
    "     height=\"100\"\n",
    "     style=\"margin:0px 0px\">"
   ]
  }
 ],
 "metadata": {
  "author": "mes",
  "celltoolbar": "Slideshow",
  "kernelspec": {
   "display_name": "cursos(3)",
   "language": "python",
   "name": "cursos"
  },
  "language_info": {
   "codemirror_mode": {
    "name": "ipython",
    "version": 3
   },
   "file_extension": ".py",
   "mimetype": "text/x-python",
   "name": "python",
   "nbconvert_exporter": "python",
   "pygments_lexer": "ipython3",
   "version": "3.7.7"
  },
  "latex_envs": {
   "LaTeX_envs_menu_present": true,
   "autoclose": false,
   "autocomplete": true,
   "bibliofile": "biblio.bib",
   "cite_by": "apalike",
   "current_citInitial": 1,
   "eqLabelWithNumbers": true,
   "eqNumInitial": 1,
   "hotkeys": {
    "equation": "Ctrl-E",
    "itemize": "Ctrl-I"
   },
   "labels_anchors": false,
   "latex_user_defs": false,
   "report_style_numbering": false,
   "user_envs_cfg": false
  }
 },
 "nbformat": 4,
 "nbformat_minor": 4
}
